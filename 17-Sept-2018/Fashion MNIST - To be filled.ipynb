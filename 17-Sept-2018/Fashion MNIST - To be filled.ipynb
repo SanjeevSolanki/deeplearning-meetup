{
 "cells": [
  {
   "cell_type": "code",
   "execution_count": null,
   "metadata": {},
   "outputs": [],
   "source": [
    "import tensorflow as tf\n",
    "import numpy as np\n",
    "import matplotlib.pyplot as plt\n",
    "import time"
   ]
  },
  {
   "cell_type": "code",
   "execution_count": null,
   "metadata": {},
   "outputs": [],
   "source": [
    "#tf.keras.datasets have a lot of preloaded datasets that you can directly use\n",
    "# More details can be found here: https://www.tensorflow.org/api_docs/python/tf/keras/datasets\n",
    "# Image classification dataset: \n",
    "#   a. CIFAR-10: https://www.cs.toronto.edu/~kriz/cifar.html\n",
    "#   b. CIFAR-100: https://www.cs.toronto.edu/~kriz/cifar.html\n",
    "#   c. MNIST: http://yann.lecun.com/exdb/mnist/\n",
    "#   d. Fashion-MNIST: https://github.com/zalandoresearch/fashion-mnist\n",
    "\n",
    "(x_train, y_train), (x_test, y_test) = tf.keras.datasets.fashion_mnist.load_data()\n"
   ]
  },
  {
   "cell_type": "code",
   "execution_count": null,
   "metadata": {},
   "outputs": [],
   "source": [
    "# Reshape input data from (28, 28) to (28, 28, 1)\n",
    "# You can also make use of the same shapes for the MNIST dataset.\n",
    "img_width, img_height, channels = 28, 28,1"
   ]
  },
  {
   "cell_type": "code",
   "execution_count": null,
   "metadata": {},
   "outputs": [],
   "source": [
    "print(\"x_train shape:\", x_train.shape, \"y_train shape:\", y_train.shape)"
   ]
  },
  {
   "cell_type": "code",
   "execution_count": null,
   "metadata": {},
   "outputs": [],
   "source": [
    "fashion_mnist_labels = [\"T-shirt/top\",  # index 0\n",
    "                        \"Trouser\",      # index 1\n",
    "                        \"Pullover\",     # index 2 \n",
    "                        \"Dress\",        # index 3 \n",
    "                        \"Coat\",         # index 4\n",
    "                        \"Sandal\",       # index 5\n",
    "                        \"Shirt\",        # index 6 \n",
    "                        \"Sneaker\",      # index 7 \n",
    "                        \"Bag\",          # index 8 \n",
    "                        \"Ankle boot\"]   # index 9"
   ]
  },
  {
   "cell_type": "code",
   "execution_count": null,
   "metadata": {},
   "outputs": [],
   "source": [
    "# Image index, you can pick any number between 0 and 59,999\n",
    "index = 1000\n",
    "labelIndex = int(y_train[index])\n",
    "print (\"y = \" + str(index) + \" \" +(fashion_mnist_labels[labelIndex]))\n",
    "plt.imshow(x_train[index])"
   ]
  },
  {
   "cell_type": "code",
   "execution_count": null,
   "metadata": {},
   "outputs": [],
   "source": [
    "plt.set_cmap('Greys')"
   ]
  },
  {
   "cell_type": "code",
   "execution_count": null,
   "metadata": {},
   "outputs": [],
   "source": [
    "figure = plt.figure(figsize=(20, 8))\n",
    "for i, index in enumerate(np.random.choice(x_test.shape[0], size=15, replace=False)):\n",
    "    ax = figure.add_subplot(3, 5, i + 1, xticks=[], yticks=[])\n",
    "    # Display each image\n",
    "    ax.imshow(x_train[index])\n",
    "    labelIndex = int(y_train[index])\n",
    "    # Set the title for each image\n",
    "    ax.set_title(\"{}\".format(fashion_mnist_labels[labelIndex]))"
   ]
  },
  {
   "cell_type": "markdown",
   "metadata": {},
   "source": [
    "## Data Normalization"
   ]
  },
  {
   "cell_type": "code",
   "execution_count": null,
   "metadata": {},
   "outputs": [],
   "source": [
    "x_train = x_train.astype('float32') / 255\n",
    "x_test = x_test.astype('float32') / 255"
   ]
  },
  {
   "cell_type": "code",
   "execution_count": null,
   "metadata": {},
   "outputs": [],
   "source": [
    "# Further break training data into train / validation sets (# put 5000 into validation set and keep remaining 55,000 for train)\n",
    "(x_train, x_valid) = x_train[5000:], x_train[:5000] \n",
    "(y_train, y_valid) = y_train[5000:], y_train[:5000]\n",
    "\n",
    "\n",
    "x_train = x_train.reshape(x_train.shape[0], img_width, img_height, channels)\n",
    "x_valid = x_valid.reshape(x_valid.shape[0], img_width, img_height, channels)\n",
    "x_test = x_test.reshape(x_test.shape[0], img_width, img_height, channels)\n",
    "\n",
    "# One-hot encode the labels\n",
    "y_train = tf.keras.utils.to_categorical(y_train, 10)\n",
    "y_valid = tf.keras.utils.to_categorical(y_valid, 10)\n",
    "y_test = tf.keras.utils.to_categorical(y_test, 10)\n",
    "\n",
    "# Print training set shape\n",
    "print(\"x_train shape:\", x_train.shape, \"y_train shape:\", y_train.shape)\n",
    "\n",
    "# Print the number of training, validation, and test datasets\n",
    "print(x_train.shape[0], 'train set')\n",
    "print(x_valid.shape[0], 'validation set')\n",
    "print(x_test.shape[0], 'test set')"
   ]
  },
  {
   "cell_type": "markdown",
   "metadata": {},
   "source": [
    "## Create the Model Architecture"
   ]
  },
  {
   "cell_type": "markdown",
   "metadata": {},
   "source": [
    "We will make use of the Keras Sequential API (https://keras.io/getting-started/sequential-model-guide/). The sequential model is a linear stack of layers. "
   ]
  },
  {
   "cell_type": "code",
   "execution_count": null,
   "metadata": {},
   "outputs": [],
   "source": [
    "model = tf.keras.Sequential()"
   ]
  },
  {
   "cell_type": "markdown",
   "metadata": {},
   "source": [
    "We will try to build a simple shallow neural network calle LeNet-5 (http://vision.stanford.edu/cs598_spring07/papers/Lecun98.pdf) "
   ]
  },
  {
   "cell_type": "code",
   "execution_count": null,
   "metadata": {},
   "outputs": [],
   "source": [
    "# Must define the input shape in the first layer of the neural network\n",
    "#layer 1: Convolution\n",
    "model.add()\n",
    "\n",
    "#Pooling layer 1\n",
    "model.add()\n",
    "\n",
    "\n",
    "\n",
    "#Layer 2\n",
    "#Conv Layer 2\n",
    "model.add()\n",
    "\n",
    "\n",
    "#Pooling Layer 2\n",
    "model.add()\n",
    "\n",
    "\n",
    "\n",
    "\n",
    "#Flatten\n",
    "model.add(tf.keras.layers.Flatten())\n",
    "#Layer 3\n",
    "#Fully connected layer 1\n",
    "model.add()\n",
    "\n",
    "#Layer 4\n",
    "#Fully connected layer 2\n",
    "model.add()\n",
    "\n",
    "#Layer 5\n",
    "#Output Layer\n",
    "model.add(tf.keras.layers.Dense(units = xx, activation = 'softmax'))"
   ]
  },
  {
   "cell_type": "code",
   "execution_count": null,
   "metadata": {},
   "outputs": [],
   "source": [
    "# Take a look at the model summary\n",
    "#total_params =(filter_height * filter_width * input_image_channels + 1) * number_of_filters\n",
    "#For layer 1:\n",
    "# when our filter size is 2; we have (2*4*1+1)*64 =  320 Parameters\n",
    "# For LeNet-5: filters = 6,kernel_size = 5; (5*5*1+1)*6 = \n",
    "model.summary()"
   ]
  },
  {
   "cell_type": "code",
   "execution_count": null,
   "metadata": {},
   "outputs": [],
   "source": [
    "model.compile(loss='categorical_crossentropy',\n",
    "             optimizer='adam',\n",
    "             metrics=['accuracy'])"
   ]
  },
  {
   "cell_type": "code",
   "execution_count": null,
   "metadata": {},
   "outputs": [],
   "source": [
    "from keras.callbacks import ModelCheckpoint\n",
    "\n",
    "checkpointer = ModelCheckpoint(filepath='model.weights.best.hdf5', verbose = 1, save_best_only=True)\n",
    "model.fit(x_train,\n",
    "         y_train,\n",
    "         batch_size=64,\n",
    "         epochs=1,\n",
    "         validation_data=(x_valid, y_valid),\n",
    "         callbacks=[checkpointer])"
   ]
  },
  {
   "cell_type": "code",
   "execution_count": null,
   "metadata": {},
   "outputs": [],
   "source": [
    "# Evaluate the model on test set\n",
    "score = model.evaluate(x_test, y_test, verbose=0)\n",
    "\n",
    "# Print test accuracy\n",
    "print('\\n', 'Test accuracy:', score[1])"
   ]
  },
  {
   "cell_type": "code",
   "execution_count": null,
   "metadata": {},
   "outputs": [],
   "source": [
    "y_hat = model.predict(x_test)\n",
    "\n",
    "# Plot a random sample of 10 test images, their predicted labels and ground truth\n",
    "figure = plt.figure(figsize=(20, 8))\n",
    "for i, index in enumerate(np.random.choice(x_test.shape[0], size=15, replace=False)):\n",
    "    ax = figure.add_subplot(3, 5, i + 1, xticks=[], yticks=[])\n",
    "    # Display each image\n",
    "    ax.imshow(np.squeeze(x_test[index]))\n",
    "    predictedIndex = int(np.argmax(y_hat[index]))\n",
    "    actualIndex = int(np.argmax(y_test[index]))\n",
    "    # Set the title for each image\n",
    "    ax.set_title(\"{} ({})\".format(fashion_mnist_labels[predictedIndex], \n",
    "                                  fashion_mnist_labels[actualIndex]),\n",
    "                                  color=(\"green\" if predictedIndex == actualIndex else \"red\"))"
   ]
  }
 ],
 "metadata": {
  "kernelspec": {
   "display_name": "Python 3",
   "language": "python",
   "name": "python3"
  },
  "language_info": {
   "codemirror_mode": {
    "name": "ipython",
    "version": 3
   },
   "file_extension": ".py",
   "mimetype": "text/x-python",
   "name": "python",
   "nbconvert_exporter": "python",
   "pygments_lexer": "ipython3",
   "version": "3.6.4"
  }
 },
 "nbformat": 4,
 "nbformat_minor": 2
}
